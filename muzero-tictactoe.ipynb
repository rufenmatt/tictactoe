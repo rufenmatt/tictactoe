{
 "cells": [
  {
   "cell_type": "code",
   "execution_count": 1,
   "metadata": {
    "scrolled": true
   },
   "outputs": [
    {
     "name": "stdout",
     "output_type": "stream",
     "text": [
      "Requirement already satisfied: tensorflow==1.15 in /Library/Frameworks/Python.framework/Versions/3.7/lib/python3.7/site-packages (1.15.0)\n",
      "Requirement already satisfied: protobuf>=3.6.1 in /Library/Frameworks/Python.framework/Versions/3.7/lib/python3.7/site-packages (from tensorflow==1.15) (3.14.0)\n",
      "Requirement already satisfied: grpcio>=1.8.6 in /Library/Frameworks/Python.framework/Versions/3.7/lib/python3.7/site-packages (from tensorflow==1.15) (1.32.0)\n",
      "Requirement already satisfied: opt-einsum>=2.3.2 in /Library/Frameworks/Python.framework/Versions/3.7/lib/python3.7/site-packages (from tensorflow==1.15) (3.3.0)\n",
      "Requirement already satisfied: tensorflow-estimator==1.15.1 in /Library/Frameworks/Python.framework/Versions/3.7/lib/python3.7/site-packages (from tensorflow==1.15) (1.15.1)\n",
      "Requirement already satisfied: numpy<2.0,>=1.16.0 in /Library/Frameworks/Python.framework/Versions/3.7/lib/python3.7/site-packages (from tensorflow==1.15) (1.19.5)\n",
      "Requirement already satisfied: tensorboard<1.16.0,>=1.15.0 in /Library/Frameworks/Python.framework/Versions/3.7/lib/python3.7/site-packages (from tensorflow==1.15) (1.15.0)\n",
      "Requirement already satisfied: termcolor>=1.1.0 in /Library/Frameworks/Python.framework/Versions/3.7/lib/python3.7/site-packages (from tensorflow==1.15) (1.1.0)\n",
      "Requirement already satisfied: google-pasta>=0.1.6 in /Library/Frameworks/Python.framework/Versions/3.7/lib/python3.7/site-packages (from tensorflow==1.15) (0.2.0)\n",
      "Requirement already satisfied: gast==0.2.2 in /Library/Frameworks/Python.framework/Versions/3.7/lib/python3.7/site-packages (from tensorflow==1.15) (0.2.2)\n",
      "Requirement already satisfied: absl-py>=0.7.0 in /Library/Frameworks/Python.framework/Versions/3.7/lib/python3.7/site-packages (from tensorflow==1.15) (0.11.0)\n",
      "Requirement already satisfied: astor>=0.6.0 in /Library/Frameworks/Python.framework/Versions/3.7/lib/python3.7/site-packages (from tensorflow==1.15) (0.8.0)\n",
      "Requirement already satisfied: keras-applications>=1.0.8 in /Library/Frameworks/Python.framework/Versions/3.7/lib/python3.7/site-packages (from tensorflow==1.15) (1.0.8)\n",
      "Requirement already satisfied: wrapt>=1.11.1 in /Library/Frameworks/Python.framework/Versions/3.7/lib/python3.7/site-packages (from tensorflow==1.15) (1.12.1)\n",
      "Requirement already satisfied: wheel>=0.26 in /Library/Frameworks/Python.framework/Versions/3.7/lib/python3.7/site-packages (from tensorflow==1.15) (0.36.2)\n",
      "Requirement already satisfied: keras-preprocessing>=1.0.5 in /Library/Frameworks/Python.framework/Versions/3.7/lib/python3.7/site-packages (from tensorflow==1.15) (1.1.2)\n",
      "Requirement already satisfied: six>=1.10.0 in /Library/Frameworks/Python.framework/Versions/3.7/lib/python3.7/site-packages (from tensorflow==1.15) (1.15.0)\n",
      "Requirement already satisfied: h5py in /Library/Frameworks/Python.framework/Versions/3.7/lib/python3.7/site-packages (from keras-applications>=1.0.8->tensorflow==1.15) (2.10.0)\n",
      "Requirement already satisfied: werkzeug>=0.11.15 in /Library/Frameworks/Python.framework/Versions/3.7/lib/python3.7/site-packages (from tensorboard<1.16.0,>=1.15.0->tensorflow==1.15) (0.16.0)\n",
      "Requirement already satisfied: setuptools>=41.0.0 in /Library/Frameworks/Python.framework/Versions/3.7/lib/python3.7/site-packages (from tensorboard<1.16.0,>=1.15.0->tensorflow==1.15) (47.1.1)\n",
      "Requirement already satisfied: markdown>=2.6.8 in /Library/Frameworks/Python.framework/Versions/3.7/lib/python3.7/site-packages (from tensorboard<1.16.0,>=1.15.0->tensorflow==1.15) (3.1.1)\n"
     ]
    }
   ],
   "source": [
    "!pip install tensorflow==1.15"
   ]
  },
  {
   "cell_type": "code",
   "execution_count": 2,
   "metadata": {},
   "outputs": [
    {
     "name": "stdout",
     "output_type": "stream",
     "text": [
      "Populating the interactive namespace from numpy and matplotlib\n"
     ]
    }
   ],
   "source": [
    "%load_ext autoreload\n",
    "%autoreload 2\n",
    "%pylab inline\n",
    "import tensorflow as tf\n",
    "import numpy as np\n",
    "import gym\n",
    "from tqdm import tqdm, trange\n",
    "import os,sys\n",
    "sys.path.append(os.getcwd())\n",
    "np.set_printoptions(suppress=True)"
   ]
  },
  {
   "cell_type": "code",
   "execution_count": 3,
   "metadata": {},
   "outputs": [
    {
     "name": "stdout",
     "output_type": "stream",
     "text": [
      "[0, 0, 0, 0, 0, 0, 0, 0, 0, 0, 1]\n",
      "([0, 0, 0, 0, 1, 0, 0, 0, 0, 0, -1], 0, False, None)\n",
      "([-1, 0, 0, 0, 1, 0, 0, 0, 0, 0, 1], 0, False, None)\n",
      "([-1, 0, 0, 1, 1, 0, 0, 0, 0, 0, -1], 0, False, None)\n",
      "([-1, -1, 0, 1, 1, 0, 0, 0, 0, 0, 1], 0, False, None)\n",
      "([-1, -1, 0, 1, 1, 0, 1, 0, 0, 0, -1], 0, False, None)\n",
      "([-1, -1, -1, 1, 1, 0, 1, 0, 0, 1, 1], 1, True, None)\n",
      "1 -1\n"
     ]
    }
   ],
   "source": [
    "# tic tac toe\n",
    "\n",
    "class TicTacToe():\n",
    "  def __init__(self, state=None):\n",
    "    self.reset()\n",
    "    if state is not None:\n",
    "      self.state = state\n",
    "\n",
    "  def reset(self):\n",
    "    self.done = False\n",
    "    self.state = [0]*11\n",
    "    self.state[-1] = 1\n",
    "    return self.state\n",
    "   \n",
    "  class observation_space():\n",
    "    shape = (11,)\n",
    "\n",
    "  class action_space():\n",
    "    n = 9\n",
    "\n",
    "  def render(self):\n",
    "    print(\"turn %d\" % self.state[-1])\n",
    "    print(np.array(self.state[0:9]).reshape(3,3))\n",
    "    \n",
    "  def value(self, s):\n",
    "    ret = 0\n",
    "    for turn in [-1, 1]:\n",
    "      for i in range(3):\n",
    "        if all([x==turn for x in s[3*i:3*i+3]]):\n",
    "          ret = turn\n",
    "        if all([x==turn for x in [s[i], s[3+i], s[6+i]]]):\n",
    "          ret = turn\n",
    "      if all([x==turn for x in [s[0], s[4], s[8]]]):\n",
    "        ret = turn\n",
    "      if all([x==turn for x in [s[2], s[4], s[6]]]):\n",
    "        ret = turn\n",
    "    # NOTE: this is not the value, the state may be won\n",
    "    return ret*s[-1]\n",
    "  \n",
    "  def dynamics(self, s, act):\n",
    "    rew = 0\n",
    "    s = s.copy()\n",
    "    if s[act] != 0 or s[-2] != 0:\n",
    "      # don't move in taken spots or in finished games\n",
    "      rew = -10\n",
    "    else:\n",
    "      s[act] = s[-1]\n",
    "      rew += self.value(s)\n",
    "    if s[-2] != 0:\n",
    "      rew = 0\n",
    "    else:\n",
    "      s[-2] = self.value(s)\n",
    "    s[-1] = -s[-1]\n",
    "    return rew, s\n",
    "  \n",
    "  def step(self, act):\n",
    "    rew, self.state = self.dynamics(self.state, act)\n",
    "    if rew != 0:\n",
    "      self.done = True\n",
    "    if np.all(np.array(self.state[0:9]) != 0):\n",
    "      self.done = True\n",
    "    return self.state, rew, self.done, None\n",
    "  \n",
    "# quick round\n",
    "\n",
    "env = TicTacToe()\n",
    "print(env.reset())\n",
    "print(env.step(4))\n",
    "print(env.step(0))\n",
    "print(env.step(3))\n",
    "print(env.step(1))\n",
    "print(env.step(6))\n",
    "print(env.step(2))\n",
    "print(env.state[-1], env.value(env.state))"
   ]
  },
  {
   "cell_type": "code",
   "execution_count": 4,
   "metadata": {},
   "outputs": [
    {
     "name": "stdout",
     "output_type": "stream",
     "text": [
      "[0. 0. 0. 0. 0. 0. 1. 0. 0.]\n",
      "[0. 0. 1. 0. 0. 0. 0. 0. 0.]\n",
      "[0. 0. 1. 0. 0. 0. 0. 0. 0.]\n",
      "[0. 0. 0. 0. 0. 0. 0. 1. 0.]\n",
      "[0. 1. 0. 0. 0. 0. 0. 0. 0.]\n"
     ]
    }
   ],
   "source": [
    "# mock representation, dynamics and prediction function\n",
    "\n",
    "class MockModel():\n",
    "  def ht(self,s):\n",
    "    return s\n",
    "  def gt(self, s, a):\n",
    "    #print(s, a)\n",
    "    return env.dynamics(s,a)\n",
    "  def ft(self,s):\n",
    "    #print(s, env.value(s))\n",
    "    return np.array([1/9]*9), env.value(s)\n",
    "\n",
    "# unit tests for the MCTS!\n",
    "from muzero.mcts import mcts_search, print_tree\n",
    "mm = MockModel()\n",
    "obs = [1, -1, 1, -1, 1, -1, 0, 0, 0,  0,1]\n",
    "policy, node = mcts_search(mm, obs, 1000)\n",
    "print(policy)\n",
    "act = np.random.choice(list(range(len(policy))), p=policy)\n",
    "assert act == 8 or act == 6\n",
    "obs = [-1, -1, 0, 1, 1, 0, 1, 0, 0,  0,-1]\n",
    "policy, node = mcts_search(mm, obs, 1000)\n",
    "print(policy)\n",
    "act = np.random.choice(list(range(len(policy))), p=policy)\n",
    "assert act == 2\n",
    "obs = [1,0,0,1,-1,0,-1,0,0,   0,1]\n",
    "policy, node = mcts_search(mm, obs, 1000)\n",
    "print(policy)\n",
    "act = np.random.choice(list(range(len(policy))), p=policy)\n",
    "assert act == 2\n",
    "obs = [0,1,-1,0,1,0,0,0,0,  0,-1]\n",
    "policy, node = mcts_search(mm, obs, 1000)\n",
    "print(policy)\n",
    "act = np.random.choice(list(range(len(policy))), p=policy)\n",
    "assert act == 7\n",
    "obs = [0,0,0, 0,-1,0, 1,-1,1,  0,1]\n",
    "policy, node = mcts_search(mm, obs, 1000)\n",
    "print(policy)\n",
    "act = np.random.choice(list(range(len(policy))), p=policy)\n",
    "assert act == 1"
   ]
  },
  {
   "cell_type": "code",
   "execution_count": 5,
   "metadata": {},
   "outputs": [
    {
     "name": "stdout",
     "output_type": "stream",
     "text": [
      "[0. 0. 1. 0. 0. 0. 0. 0. 0.]\n",
      "2\n",
      "turn -1\n",
      "[[0 0 1]\n",
      " [0 0 0]\n",
      " [0 0 0]]\n",
      "[1. 0. 0. 0. 0. 0. 0. 0. 0.]\n",
      "0\n",
      "turn 1\n",
      "[[-1  0  1]\n",
      " [ 0  0  0]\n",
      " [ 0  0  0]]\n",
      "[0. 0. 0. 1. 0. 0. 0. 0. 0.]\n",
      "3\n",
      "turn -1\n",
      "[[-1  0  1]\n",
      " [ 1  0  0]\n",
      " [ 0  0  0]]\n",
      "[0. 0. 0. 0. 0. 1. 0. 0. 0.]\n",
      "5\n",
      "turn 1\n",
      "[[-1  0  1]\n",
      " [ 1  0 -1]\n",
      " [ 0  0  0]]\n",
      "[0. 1. 0. 0. 0. 0. 0. 0. 0.]\n",
      "1\n",
      "turn -1\n",
      "[[-1  1  1]\n",
      " [ 1  0 -1]\n",
      " [ 0  0  0]]\n",
      "[0. 0. 0. 0. 0. 0. 0. 1. 0.]\n",
      "7\n",
      "turn 1\n",
      "[[-1  1  1]\n",
      " [ 1  0 -1]\n",
      " [ 0 -1  0]]\n",
      "[0. 0. 0. 0. 0. 0. 0. 0. 1.]\n",
      "8\n",
      "turn -1\n",
      "[[-1  1  1]\n",
      " [ 1  0 -1]\n",
      " [ 0 -1  1]]\n",
      "[0. 0. 0. 0. 1. 0. 0. 0. 0.]\n",
      "4\n",
      "turn 1\n",
      "[[-1  1  1]\n",
      " [ 1 -1 -1]\n",
      " [ 0 -1  1]]\n",
      "[0. 0. 0. 0. 0. 0. 1. 0. 0.]\n",
      "6\n",
      "turn -1\n",
      "[[-1  1  1]\n",
      " [ 1 -1 -1]\n",
      " [ 1 -1  1]]\n"
     ]
    }
   ],
   "source": [
    "# computer can play against itself...and tie!\n",
    "\n",
    "gg = TicTacToe()\n",
    "done = False\n",
    "while not done:\n",
    "  policy, node = mcts_search(mm, gg.state, 2000)\n",
    "  print(policy)\n",
    "  act = np.random.choice(list(range(len(policy))), p=policy)\n",
    "  print(act)\n",
    "  _, _, done, _ = gg.step(act)\n",
    "  gg.render()"
   ]
  },
  {
   "cell_type": "code",
   "execution_count": 6,
   "metadata": {},
   "outputs": [
    {
     "name": "stdout",
     "output_type": "stream",
     "text": [
      "WARNING:tensorflow:From /Library/Frameworks/Python.framework/Versions/3.7/lib/python3.7/site-packages/tensorflow_core/python/ops/resource_variable_ops.py:1630: calling BaseResourceVariable.__init__ (from tensorflow.python.ops.resource_variable_ops) with constraint is deprecated and will be removed in a future version.\n",
      "Instructions for updating:\n",
      "If using Keras pass *_constraint arguments to layers.\n",
      "(11,) 9\n"
     ]
    }
   ],
   "source": [
    "# Now we try to learn a model, and things work less well\n",
    "\n",
    "from muzero.model import MuModel\n",
    "m = MuModel(env.observation_space.shape, env.action_space.n, s_dim=64, K=5, lr=0.001)\n",
    "print(env.observation_space.shape, env.action_space.n)\n",
    "\n",
    "from muzero.game import Game, ReplayBuffer\n",
    "from muzero.mcts import naive_search, mcts_search\n",
    "replay_buffer = ReplayBuffer(200, 16, m.K)\n",
    "rews = []"
   ]
  },
  {
   "cell_type": "code",
   "execution_count": 7,
   "metadata": {},
   "outputs": [],
   "source": [
    "def play_game(env, m):\n",
    "  import random\n",
    "  game = Game(env, discount=0.99)\n",
    "  while not game.terminal():\n",
    "    # TODO: evaluate ramifications of limiting the depth of the MCTS search?\n",
    "    # policy = naive_search(m, game.observation, T=1)\n",
    "    policy, _ = mcts_search(m, game.observation, 30)\n",
    "    game.act_with_policy(policy)\n",
    "  return game"
   ]
  },
  {
   "cell_type": "code",
   "execution_count": 8,
   "metadata": {},
   "outputs": [
    {
     "name": "stdout",
     "output_type": "stream",
     "text": [
      "4 -10 [3, 4, 0, 4] 32.11804\n",
      "5 -10 [8, 0, 7, 6, 7] 33.396797\n",
      "2 -10 [0, 0] 17.789948\n",
      "6 -10 [7, 8, 1, 4, 2, 2] 88.01396\n",
      "2 -10 [0, 0] 217.89598\n",
      "5 1 [1, 3, 0, 6, 2] 136.19089\n",
      "2 -10 [0, 0] 46.417835\n",
      "2 -10 [0, 0] 23.600084\n",
      "2 -10 [0, 0] 144.82149\n",
      "2 -10 [0, 0] 172.4033\n",
      "4 -10 [0, 2, 6, 2] 165.70157\n",
      "5 -10 [0, 2, 7, 8, 0] 182.77554\n",
      "4 -10 [0, 2, 4, 2] 148.75697\n",
      "4 -10 [0, 2, 5, 2] 116.90183\n",
      "3 -10 [0, 3, 3] 101.49451\n",
      "6 -10 [0, 2, 5, 6, 4, 4] 114.95651\n",
      "3 -10 [0, 5, 5] 133.0857\n",
      "5 -10 [0, 6, 5, 2, 6] 170.44652\n",
      "3 -10 [0, 6, 6] 11559760.0\n",
      "6 -10 [0, 8, 1, 7, 4, 8] 246.82391\n",
      "4 -10 [1, 2, 8, 2] 166.03522\n",
      "2 -10 [8, 8] 209.05438\n",
      "2 -10 [2, 2] 149.17496\n",
      "2 -10 [2, 2] 159.251\n",
      "5 -10 [6, 4, 1, 8, 4] 201.14464\n",
      "6 -10 [7, 3, 4, 2, 8, 2] 10400.255\n",
      "4 -10 [4, 2, 1, 2] 258.16888\n",
      "2 -10 [2, 2] 142.41234\n",
      "2 -10 [1, 1] 192.08412\n",
      "5 -10 [3, 6, 4, 2, 2] 681.9255\n"
     ]
    }
   ],
   "source": [
    "from muzero.model import reformat_batch\n",
    "import collections\n",
    "\n",
    "for j in range(30):\n",
    "  game = play_game(env, m)\n",
    "  replay_buffer.save_game(game)\n",
    "  for i in range(20):\n",
    "    m.train_on_batch(replay_buffer.sample_batch())\n",
    "  rew = sum(game.rewards)\n",
    "  rews.append(rew)\n",
    "  print(len(game.history), rew, game.history, m.losses[-1][0])"
   ]
  },
  {
   "cell_type": "code",
   "execution_count": 9,
   "metadata": {},
   "outputs": [
    {
     "data": {
      "text/plain": [
       "[<matplotlib.lines.Line2D at 0x7fe74e843e10>]"
      ]
     },
     "execution_count": 9,
     "metadata": {},
     "output_type": "execute_result"
    },
    {
     "data": {
      "image/png": "[encoded data removed]",
      "text/plain": [
       "<Figure size 432x288 with 1 Axes>"
      ]
     },
     "metadata": {
      "needs_background": "light"
     },
     "output_type": "display_data"
    },
    {
     "data": {
      "image/png": "[encoded data removed]",
      "text/plain": [
       "<Figure size 432x288 with 1 Axes>"
      ]
     },
     "metadata": {
      "needs_background": "light"
     },
     "output_type": "display_data"
    }
   ],
   "source": [
    "plot(rews)\n",
    "figure()\n",
    "plot([x[0] for x in m.losses])\n",
    "plot([x[1] for x in m.losses])\n",
    "plot([x[-3] for x in m.losses])"
   ]
  },
  {
   "cell_type": "code",
   "execution_count": 10,
   "metadata": {},
   "outputs": [
    {
     "data": {
      "text/plain": [
       "array([[3.6801633e+18, 6.8846711e+13, 8.9847455e+19],\n",
       "       [2.5509289e+13, 5.5762731e+14, 7.0044418e+11],\n",
       "       [1.6589687e+17, 1.5280511e+17, 3.0855985e+12]], dtype=float32)"
      ]
     },
     "execution_count": 10,
     "metadata": {},
     "output_type": "execute_result"
    }
   ],
   "source": [
    "# show starting policy\n",
    "\n",
    "obs = [0,0,0,0,0,0,0,0,0,  0,1]\n",
    "policy, value = m.ft(m.ht(obs))\n",
    "np.reshape(policy, (3,3))"
   ]
  },
  {
   "cell_type": "code",
   "execution_count": 11,
   "metadata": {},
   "outputs": [
    {
     "name": "stdout",
     "output_type": "stream",
     "text": [
      "turn 1\n",
      "[[ 1 -1  1]\n",
      " [-1  1 -1]\n",
      " [ 0  0  0]]\n"
     ]
    },
    {
     "data": {
      "text/plain": [
       "(array([[3.8418259e+16, 1.4083484e+13, 4.8606217e+17],\n",
       "        [4.9940545e+12, 1.0596362e+14, 1.3824934e+11],\n",
       "        [9.3501964e+15, 5.3151987e+15, 6.4748257e+11]], dtype=float32),\n",
       " array([[0.57881993, 1.0434428 , 0.85257673],\n",
       "        [1.0160294 , 0.6718648 , 0.56041956],\n",
       "        [0.9401486 , 0.7570648 , 1.3672118 ]], dtype=float32))"
      ]
     },
     "execution_count": 11,
     "metadata": {},
     "output_type": "execute_result"
    }
   ],
   "source": [
    "# test a \"challenging\" scenario\n",
    "\n",
    "obs = [1, -1, 1, -1, 1, -1, 0, 0, 0,  0,1]\n",
    "TicTacToe(obs).render()\n",
    "policy, value = m.ft(m.ht(obs))\n",
    "\n",
    "# expect 6 and 8 to light up in reward\n",
    "\n",
    "rew = [m.gt(m.ht(obs), i)[0] for i in range(9)]\n",
    "np.reshape(policy, (3,3)), np.reshape(rew, (3,3))"
   ]
  }
 ],
 "metadata": {
  "kernelspec": {
   "display_name": "Python 3",
   "language": "python",
   "name": "python3"
  },
  "language_info": {
   "codemirror_mode": {
    "name": "ipython",
    "version": 3
   },
   "file_extension": ".py",
   "mimetype": "text/x-python",
   "name": "python",
   "nbconvert_exporter": "python",
   "pygments_lexer": "ipython3",
   "version": "3.7.3"
  }
 },
 "nbformat": 4,
 "nbformat_minor": 2
}
